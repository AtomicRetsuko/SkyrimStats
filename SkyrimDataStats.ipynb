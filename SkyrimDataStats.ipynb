{
 "cells": [
  {
   "cell_type": "markdown",
   "metadata": {},
   "source": [
    "# Skyrim Statistics"
   ]
  },
  {
   "cell_type": "markdown",
   "metadata": {},
   "source": [
    "### By Jules Alexandre"
   ]
  },
  {
   "cell_type": "markdown",
   "metadata": {},
   "source": [
    "#### Skyrim is a game full of details with hundreads of NPCs and informations, Let's analyse and build some correlations over the game's data\n",
    "#### We basically have :\n",
    "- NPCs with their : Names, City of residence, Gender, Race, Occupation\n",
    "- Cities with : Location, Weather Conditions, Who Controls it, how many inhabitants, etc.\n",
    "- Percentage of each city over the global population\n",
    "\n",
    "#### Skyrim is also teared between two sides fighting for the province's control :\n",
    "- StormCloak and Empire presence in each cities"
   ]
  },
  {
   "cell_type": "markdown",
   "metadata": {},
   "source": [
    "### Importing Libraries"
   ]
  },
  {
   "cell_type": "code",
   "execution_count": null,
   "metadata": {},
   "outputs": [],
   "source": [
    "#importing basic libraies\n",
    "import os\n",
    "from flask import Flask, request, jsonify\n",
    "import matplotlib.pyplot as plt\n",
    "from pyspark.sql import SparkSession\n",
    "from pyspark.sql.functions import col\n",
    "from pyspark.sql import functions as F\n",
    "import threading"
   ]
  },
  {
   "cell_type": "markdown",
   "metadata": {},
   "source": [
    "### Initialize Spark Session and launching it"
   ]
  },
  {
   "cell_type": "code",
   "execution_count": null,
   "metadata": {},
   "outputs": [],
   "source": [
    "os.environ[\"JAVA_HOME\"] = \"/opt/homebrew/opt/openjdk@11\"\n",
    "\n",
    "spark = SparkSession.builder \\\n",
    "    .appName(\"SkyrimDotoProject\") \\\n",
    "    .master(\"local[*]\") \\\n",
    "    .getOrCreate()\n",
    "\n",
    "print(\"Spark session created successfully!\")"
   ]
  },
  {
   "cell_type": "code",
   "execution_count": null,
   "metadata": {},
   "outputs": [],
   "source": [
    "#City Ennemployment\n",
    "city_df = spark.read.csv(\"NPCsDotos.csv\", header=True, inferSchema=True)\n",
    "city = input(\"Please, Enter a city to search into\")\n",
    "city_df.filter(city_df[\"city\"] == city).show(99)"
   ]
  },
  {
   "cell_type": "markdown",
   "metadata": {},
   "source": [
    "### Getting the number of people in a city for one job"
   ]
  },
  {
   "cell_type": "code",
   "execution_count": null,
   "metadata": {},
   "outputs": [],
   "source": [
    "#Checks how many people works as :\n",
    "job = input(\"Please Enter a Job\")\n",
    "city_df.filter((city_df[\"occupation\"] == job) & (city_df[\"city\"] == city)).show(99)"
   ]
  },
  {
   "cell_type": "code",
   "execution_count": null,
   "metadata": {},
   "outputs": [],
   "source": [
    "#Make a Graph with the Jobs\n",
    "\n",
    "job_column_name = \"occupation\"\n",
    "\n",
    "# 1. Filter the DataFrame to only include data for the specific city and job\n",
    "# If you want to analyze a specific job in a specific city\n",
    "filtered_df = city_df.filter((city_df[\"city\"] == city))\n",
    "filtered_df.show(99)  # Display the filtered results\n",
    "\n",
    "# 2. Group by job (case-insensitive) and count occurrences\n",
    "job_counts = filtered_df.groupBy(F.lower(F.col(job_column_name)).alias(\"job\")).count()\n",
    "\n",
    "# 3. Calculate the total number of people\n",
    "total_count = filtered_df.count()\n",
    "\n",
    "# 4. Calculate the percentage for each job\n",
    "percentage_df = job_counts.withColumn(\n",
    "    \"percentage\", F.col(\"count\") / total_count\n",
    ")\n",
    "\n",
    "# 5. Order by percentage to see the most common jobs\n",
    "percentage_df = percentage_df.orderBy(F.desc(\"percentage\"))\n",
    "\n",
    "# 6. Collect data to driver node for visualization (kept within Spark context)\n",
    "job_data = percentage_df.select(\"job\", \"percentage\").collect()\n",
    "\n",
    "# 7. Create lists from collected data\n",
    "jobs = [row[\"job\"] for row in job_data]\n",
    "percentages = [row[\"percentage\"] for row in job_data]\n",
    "\n",
    "# 8. Create the pie chart\n",
    "plt.figure(figsize=(25, 25))\n",
    "plt.pie(\n",
    "    percentages,\n",
    "    labels=jobs,\n",
    "    autopct=\"%1.1f%%\",\n",
    "    startangle=140,\n",
    "    wedgeprops={\"edgecolor\": \"black\"},\n",
    "    textprops={'fontsize': 10}\n",
    ")\n",
    "\n",
    "plt.title(f\"Distribution of Jobs in {city})\", fontsize=16)\n",
    "plt.axis(\"equal\")\n",
    "plt.tight_layout()\n",
    "plt.show()"
   ]
  },
  {
   "cell_type": "code",
   "execution_count": null,
   "metadata": {},
   "outputs": [],
   "source": [
    "#test for Python\n",
    "\n",
    "name = \"Morgan\"\n",
    "price = 5000\n",
    "\n",
    "print(f\"You're a Wanted Man Mister {name}, ${price} For Your Head Alone\")"
   ]
  }
 ],
 "metadata": {
  "kernelspec": {
   "display_name": "Python 3",
   "language": "python",
   "name": "python3"
  },
  "language_info": {
   "codemirror_mode": {
    "name": "ipython",
    "version": 3
   },
   "file_extension": ".py",
   "mimetype": "text/x-python",
   "name": "python",
   "nbconvert_exporter": "python",
   "pygments_lexer": "ipython3",
   "version": "3.12.7"
  }
 },
 "nbformat": 4,
 "nbformat_minor": 2
}
